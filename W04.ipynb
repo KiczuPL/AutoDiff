{
 "cells": [
  {
   "cell_type": "markdown",
   "id": "93afd9f6",
   "metadata": {},
   "source": [
    "### Structures\n",
    "Definition of basic structures for computational graph"
   ]
  },
  {
   "cell_type": "code",
   "execution_count": 31,
   "id": "9f929c35",
   "metadata": {},
   "outputs": [],
   "source": [
    "abstract type GraphNode end\n",
    "abstract type Operator <: GraphNode end\n",
    "\n",
    "struct Constant{T} <: GraphNode\n",
    "    output :: T\n",
    "end\n",
    "\n",
    "mutable struct Variable <: GraphNode\n",
    "    output :: Any\n",
    "    gradient :: Any\n",
    "    name :: String\n",
    "    Variable(output; name=\"?\") = new(output, nothing, name)\n",
    "end\n",
    "\n",
    "mutable struct ScalarOperator{F} <: Operator\n",
    "    inputs :: Any\n",
    "    output :: Any\n",
    "    gradient :: Any\n",
    "    name :: String\n",
    "    ScalarOperator(fun, inputs...; name=\"?\") = new{typeof(fun)}(inputs, nothing, nothing, name)\n",
    "end\n",
    "\n",
    "mutable struct BroadcastedOperator{F} <: Operator\n",
    "    inputs :: Any\n",
    "    output :: Any\n",
    "    gradient :: Any\n",
    "    name :: String\n",
    "    BroadcastedOperator(fun, inputs...; name=\"?\") = new{typeof(fun)}(inputs, nothing, nothing, name)\n",
    "end"
   ]
  },
  {
   "cell_type": "markdown",
   "id": "23325057",
   "metadata": {},
   "source": [
    "### Pretty-printing\n",
    "It helps tracking what happens"
   ]
  },
  {
   "cell_type": "code",
   "execution_count": 32,
   "id": "df5b6bef",
   "metadata": {},
   "outputs": [
    {
     "data": {
      "text/plain": [
       "show (generic function with 278 methods)"
      ]
     },
     "metadata": {},
     "output_type": "display_data"
    }
   ],
   "source": [
    "import Base: show, summary\n",
    "show(io::IO, x::ScalarOperator{F}) where {F} = print(io, \"op \", x.name, \"(\", F, \")\");\n",
    "show(io::IO, x::BroadcastedOperator{F}) where {F} = print(io, \"op.\", x.name, \"(\", F, \")\");\n",
    "show(io::IO, x::Constant) = print(io, \"const \", x.output)\n",
    "show(io::IO, x::Variable) = begin\n",
    "    print(io, \"var \", x.name);\n",
    "    print(io, \"\\n ┣━ ^ \"); summary(io, x.output)\n",
    "    print(io, \"\\n ┗━ ∇ \");  summary(io, x.gradient)\n",
    "end"
   ]
  },
  {
   "cell_type": "markdown",
   "id": "39c64026",
   "metadata": {},
   "source": [
    "### Graph building\n",
    "At first we have a set of loosely-coupled graph nodes. The following procedures build a proper graph!"
   ]
  },
  {
   "cell_type": "code",
   "execution_count": 33,
   "id": "7c75c244",
   "metadata": {},
   "outputs": [
    {
     "data": {
      "text/plain": [
       "topological_sort (generic function with 1 method)"
      ]
     },
     "metadata": {},
     "output_type": "display_data"
    }
   ],
   "source": [
    "function visit(node::GraphNode, visited, order)\n",
    "    if node ∈ visited\n",
    "    else\n",
    "        push!(visited, node)\n",
    "        push!(order, node)\n",
    "    end\n",
    "    return nothing\n",
    "end\n",
    "    \n",
    "function visit(node::Operator, visited, order)\n",
    "    if node ∈ visited\n",
    "    else\n",
    "        push!(visited, node)\n",
    "        for input in node.inputs\n",
    "            visit(input, visited, order)\n",
    "        end\n",
    "        push!(order, node)\n",
    "    end\n",
    "    return nothing\n",
    "end\n",
    "\n",
    "function topological_sort(head::GraphNode)\n",
    "    visited = Set()\n",
    "    order = Vector()\n",
    "    visit(head, visited, order)\n",
    "    return order\n",
    "end"
   ]
  },
  {
   "cell_type": "markdown",
   "id": "4b04aae1",
   "metadata": {},
   "source": [
    "### Forward pass"
   ]
  },
  {
   "cell_type": "code",
   "execution_count": 34,
   "id": "afa95b21",
   "metadata": {},
   "outputs": [
    {
     "data": {
      "text/plain": [
       "forward! (generic function with 1 method)"
      ]
     },
     "metadata": {},
     "output_type": "display_data"
    }
   ],
   "source": [
    "reset!(node::Constant) = nothing\n",
    "reset!(node::Variable) = node.gradient = nothing\n",
    "reset!(node::Operator) = node.gradient = nothing\n",
    "\n",
    "compute!(node::Constant) = nothing\n",
    "compute!(node::Variable) = nothing\n",
    "compute!(node::Operator) =\n",
    "    node.output = forward(node, [input.output for input in node.inputs]...)\n",
    "\n",
    "function forward!(order::Vector)\n",
    "    for node in order\n",
    "        compute!(node)\n",
    "        reset!(node)\n",
    "    end\n",
    "    return last(order).output\n",
    "end"
   ]
  },
  {
   "cell_type": "markdown",
   "id": "e3eed685",
   "metadata": {},
   "source": [
    "### Backward pass"
   ]
  },
  {
   "cell_type": "code",
   "execution_count": 35,
   "id": "89f2761f",
   "metadata": {},
   "outputs": [
    {
     "data": {
      "text/plain": [
       "backward! (generic function with 4 methods)"
      ]
     },
     "metadata": {},
     "output_type": "display_data"
    }
   ],
   "source": [
    "update!(node::Constant, gradient) = nothing\n",
    "update!(node::GraphNode, gradient) = if isnothing(node.gradient)\n",
    "    node.gradient = gradient else node.gradient .+= gradient\n",
    "end\n",
    "\n",
    "function backward!(order::Vector; seed=1.0)\n",
    "    result = last(order)\n",
    "    result.gradient = seed\n",
    "    @assert length(result.output) == 1 \"Gradient is defined only for scalar functions\"\n",
    "    for node in reverse(order)\n",
    "        backward!(node)\n",
    "    end\n",
    "    return nothing\n",
    "end\n",
    "\n",
    "function backward!(node::Constant) end\n",
    "function backward!(node::Variable) end\n",
    "function backward!(node::Operator)\n",
    "    inputs = node.inputs\n",
    "    gradients = backward(node, [input.output for input in inputs]..., node.gradient)\n",
    "    for (input, gradient) in zip(inputs, gradients)\n",
    "        update!(input, gradient)\n",
    "    end\n",
    "    return nothing\n",
    "end"
   ]
  },
  {
   "cell_type": "markdown",
   "id": "9f8a717d",
   "metadata": {},
   "source": [
    "### Implemented operations\n",
    "Below is the list of supported operations on graph nodes"
   ]
  },
  {
   "cell_type": "markdown",
   "id": "d8139570",
   "metadata": {},
   "source": [
    "#### Scalar operators"
   ]
  },
  {
   "cell_type": "code",
   "execution_count": 36,
   "id": "c7c90ca0",
   "metadata": {},
   "outputs": [
    {
     "data": {
      "text/plain": [
       "backward (generic function with 10 methods)"
      ]
     },
     "metadata": {},
     "output_type": "display_data"
    }
   ],
   "source": [
    "import Base: ^\n",
    "^(x::GraphNode, n::GraphNode) = ScalarOperator(^, x, n)\n",
    "forward(::ScalarOperator{typeof(^)}, x, n) = return x^n\n",
    "backward(::ScalarOperator{typeof(^)}, x, n, g) = tuple(g * n * x ^ (n-1), g * log(abs(x)) * x ^ n)"
   ]
  },
  {
   "cell_type": "code",
   "execution_count": 37,
   "id": "be55a46d",
   "metadata": {},
   "outputs": [
    {
     "data": {
      "text/plain": [
       "backward (generic function with 10 methods)"
      ]
     },
     "metadata": {},
     "output_type": "display_data"
    }
   ],
   "source": [
    "import Base: sin\n",
    "sin(x::GraphNode) = ScalarOperator(sin, x)\n",
    "forward(::ScalarOperator{typeof(sin)}, x) = return sin(x)\n",
    "backward(::ScalarOperator{typeof(sin)}, x, g) = tuple(g * cos(x))"
   ]
  },
  {
   "cell_type": "markdown",
   "id": "642e3f44",
   "metadata": {},
   "source": [
    "#### Broadcasted operators\n",
    "The operations act on vectors of values so, the gradients are computed as vector-jacobian-products."
   ]
  },
  {
   "cell_type": "code",
   "execution_count": 38,
   "id": "cf574638",
   "metadata": {},
   "outputs": [
    {
     "data": {
      "text/plain": [
       "backward (generic function with 10 methods)"
      ]
     },
     "metadata": {},
     "output_type": "display_data"
    }
   ],
   "source": [
    "import Base: *\n",
    "import LinearAlgebra: mul!\n",
    "# x * y (aka matrix multiplication)\n",
    "*(A::GraphNode, x::GraphNode) = BroadcastedOperator(mul!, A, x)\n",
    "forward(::BroadcastedOperator{typeof(mul!)}, A, x) = return A * x\n",
    "backward(::BroadcastedOperator{typeof(mul!)}, A, x, g) = tuple(g * x', A' * g)\n",
    "\n",
    "# x .* y (element-wise multiplication)\n",
    "Base.Broadcast.broadcasted(*, x::GraphNode, y::GraphNode) = BroadcastedOperator(*, x, y)\n",
    "forward(::BroadcastedOperator{typeof(*)}, x, y) = return x .* y\n",
    "backward(node::BroadcastedOperator{typeof(*)}, x, y, g) = let\n",
    "    𝟏 = ones(length(node.output))\n",
    "    Jx = diagm(y .* 𝟏)\n",
    "    Jy = diagm(x .* 𝟏)\n",
    "    tuple(Jx' * g, Jy' * g)\n",
    "end"
   ]
  },
  {
   "cell_type": "code",
   "execution_count": 39,
   "id": "28c7549d",
   "metadata": {},
   "outputs": [
    {
     "data": {
      "text/plain": [
       "backward (generic function with 10 methods)"
      ]
     },
     "metadata": {},
     "output_type": "display_data"
    }
   ],
   "source": [
    "Base.Broadcast.broadcasted(-, x::GraphNode, y::GraphNode) = BroadcastedOperator(-, x, y)\n",
    "forward(::BroadcastedOperator{typeof(-)}, x, y) = return x .- y\n",
    "backward(::BroadcastedOperator{typeof(-)}, x, y, g) = tuple(g,-g)"
   ]
  },
  {
   "cell_type": "code",
   "execution_count": 40,
   "id": "47861201",
   "metadata": {},
   "outputs": [
    {
     "data": {
      "text/plain": [
       "backward (generic function with 10 methods)"
      ]
     },
     "metadata": {},
     "output_type": "display_data"
    }
   ],
   "source": [
    "Base.Broadcast.broadcasted(+, x::GraphNode, y::GraphNode) = BroadcastedOperator(+, x, y)\n",
    "forward(::BroadcastedOperator{typeof(+)}, x, y) = return x .+ y\n",
    "backward(::BroadcastedOperator{typeof(+)}, x, y, g) = tuple(g, g)"
   ]
  },
  {
   "cell_type": "code",
   "execution_count": 41,
   "id": "244cc7f1",
   "metadata": {},
   "outputs": [
    {
     "data": {
      "text/plain": [
       "backward (generic function with 10 methods)"
      ]
     },
     "metadata": {},
     "output_type": "display_data"
    }
   ],
   "source": [
    "import Base: sum\n",
    "sum(x::GraphNode) = BroadcastedOperator(sum, x)\n",
    "forward(::BroadcastedOperator{typeof(sum)}, x) = return sum(x)\n",
    "backward(::BroadcastedOperator{typeof(sum)}, x, g) = let\n",
    "    𝟏 = ones(length(x))\n",
    "    J = 𝟏'\n",
    "    tuple(J' * g)\n",
    "end"
   ]
  },
  {
   "cell_type": "code",
   "execution_count": 42,
   "id": "474f6b6b",
   "metadata": {},
   "outputs": [
    {
     "data": {
      "text/plain": [
       "backward (generic function with 10 methods)"
      ]
     },
     "metadata": {},
     "output_type": "display_data"
    }
   ],
   "source": [
    "Base.Broadcast.broadcasted(/, x::GraphNode, y::GraphNode) = BroadcastedOperator(/, x, y)\n",
    "forward(::BroadcastedOperator{typeof(/)}, x, y) = return x ./ y\n",
    "backward(node::BroadcastedOperator{typeof(/)}, x, y::Real, g) = let\n",
    "    𝟏 = ones(length(node.output))\n",
    "    Jx = diagm(𝟏 ./ y)\n",
    "    Jy = (-x ./ y .^2)\n",
    "    tuple(Jx' * g, Jy' * g)\n",
    "end"
   ]
  },
  {
   "cell_type": "code",
   "execution_count": 43,
   "id": "0c881d67",
   "metadata": {},
   "outputs": [
    {
     "data": {
      "text/plain": [
       "backward (generic function with 10 methods)"
      ]
     },
     "metadata": {},
     "output_type": "display_data"
    }
   ],
   "source": [
    "import Base: max\n",
    "Base.Broadcast.broadcasted(max, x::GraphNode, y::GraphNode) = BroadcastedOperator(max, x, y)\n",
    "forward(::BroadcastedOperator{typeof(max)}, x, y) = return max.(x, y)\n",
    "backward(::BroadcastedOperator{typeof(max)}, x, y, g) = let\n",
    "    Jx = diagm(isless.(y, x))\n",
    "    Jy = diagm(isless.(x, y))\n",
    "    tuple(Jx' * g, Jy' * g)\n",
    "end"
   ]
  },
  {
   "cell_type": "markdown",
   "id": "12169704",
   "metadata": {},
   "source": [
    "## Testing area!\n",
    "Below we will perform few tests."
   ]
  },
  {
   "cell_type": "code",
   "execution_count": 44,
   "id": "ad1dbc80",
   "metadata": {},
   "outputs": [
    {
     "data": {
      "text/plain": [
       "4-element Vector{Any}:\n",
       " var x\n",
       " ┣━ ^ Float64\n",
       " ┗━ ∇ Nothing\n",
       " const 2.0\n",
       " op ?(typeof(^))\n",
       " op ?(typeof(sin))"
      ]
     },
     "metadata": {},
     "output_type": "display_data"
    }
   ],
   "source": [
    "x = Variable(5.0, name=\"x\")\n",
    "two = Constant(2.0)\n",
    "squared = x^two\n",
    "sine = sin(squared)\n",
    "\n",
    "order = topological_sort(sine)"
   ]
  },
  {
   "cell_type": "code",
   "execution_count": 45,
   "id": "7b9be30d",
   "metadata": {},
   "outputs": [
    {
     "data": {
      "text/plain": [
       "-0.13235175009777303"
      ]
     },
     "metadata": {},
     "output_type": "display_data"
    }
   ],
   "source": [
    "y = forward!(order)"
   ]
  },
  {
   "cell_type": "code",
   "execution_count": 46,
   "id": "harmful-specialist",
   "metadata": {},
   "outputs": [],
   "source": [
    "backward!(order)"
   ]
  },
  {
   "cell_type": "code",
   "execution_count": 47,
   "id": "resident-gothic",
   "metadata": {},
   "outputs": [
    {
     "data": {
      "text/plain": [
       "9.912028118634735"
      ]
     },
     "metadata": {},
     "output_type": "display_data"
    }
   ],
   "source": [
    "x.gradient"
   ]
  },
  {
   "cell_type": "markdown",
   "id": "e7b0803d",
   "metadata": {},
   "source": [
    "### The simplest multilayer-perceptron"
   ]
  },
  {
   "cell_type": "code",
   "execution_count": 61,
   "id": "0cf01ade",
   "metadata": {},
   "outputs": [
    {
     "data": {
      "text/plain": [
       "backward (generic function with 11 methods)"
      ]
     },
     "metadata": {},
     "output_type": "display_data"
    }
   ],
   "source": [
    "import Base: exp\n",
    "\n",
    "σ(x::GraphNode) = BroadcastedOperator(σ(), x)\n",
    "\n",
    "# Definiujemy działanie w przód (forward) dla operatora sigmoidalnego\n",
    "function forward(::BroadcastedOperator{σ}, x)\n",
    "    return 1 ./ (1 .+ exp.(-x))\n",
    "end\n",
    "\n",
    "# Definiujemy działanie w tył (backward) dla operatora sigmoidalnego\n",
    "function backward(::BroadcastedOperator{σ}, x, g)\n",
    "    y = forward(BroadcastedOperator(σ(), x))\n",
    "    dy_dx = y .* (1 .- y)  # pochodna funkcji sigmoidalnej\n",
    "    return (dy_dx .* g,)\n",
    "end"
   ]
  },
  {
   "cell_type": "code",
   "execution_count": 49,
   "id": "1c190c3b-1145-42ee-a3d3-ef226f4b44f6",
   "metadata": {},
   "outputs": [],
   "source": [
    "#include(\"secret-sauce.jl\") # defines σ and ^"
   ]
  },
  {
   "cell_type": "code",
   "execution_count": 62,
   "id": "5b0d7acd",
   "metadata": {},
   "outputs": [
    {
     "ename": "MethodError",
     "evalue": "MethodError: no method matching σ()\n\nClosest candidates are:\n  σ(!Matched::GraphNode)\n   @ Main c:\\Users\\Kiczu\\Desktop\\AutoDiff\\W04.ipynb:3\n",
     "output_type": "error",
     "traceback": [
      "MethodError: no method matching σ()\n",
      "\n",
      "Closest candidates are:\n",
      "  σ(!Matched::GraphNode)\n",
      "   @ Main c:\\Users\\Kiczu\\Desktop\\AutoDiff\\W04.ipynb:3\n",
      "\n",
      "\n",
      "Stacktrace:\n",
      " [1] σ(x::BroadcastedOperator{typeof(mul!)})\n",
      "   @ Main c:\\Users\\Kiczu\\Desktop\\AutoDiff\\W04.ipynb:3\n",
      " [2] dense(w::Variable, x::Variable, activation::typeof(σ))\n",
      "   @ Main c:\\Users\\Kiczu\\Desktop\\AutoDiff\\W04.ipynb:9\n",
      " [3] net(x::Variable, wh::Variable, wo::Variable, y::Variable)\n",
      "   @ Main c:\\Users\\Kiczu\\Desktop\\AutoDiff\\W04.ipynb:17\n",
      " [4] top-level scope\n",
      "   @ c:\\Users\\Kiczu\\Desktop\\AutoDiff\\W04.ipynb:26"
     ]
    }
   ],
   "source": [
    "using LinearAlgebra\n",
    "Wh  = Variable(randn(10,2), name=\"wh\")\n",
    "Wo  = Variable(randn(1,10), name=\"wo\")\n",
    "x = Variable([1.98, 4.434], name=\"x\")\n",
    "y = Variable([0.064], name=\"y\")\n",
    "losses = Float64[]\n",
    "\n",
    "function dense(w, b, x, activation) return activation(w * x .+ b) end\n",
    "function dense(w, x, activation) return activation(w * x) end\n",
    "function dense(w, x) return w * x end\n",
    "\n",
    "function mean_squared_loss(y, ŷ)\n",
    "    return Constant(0.5) .* (y .- ŷ) .^ Constant(2)\n",
    "end\n",
    "\n",
    "function net(x, wh, wo, y)\n",
    "    x̂ = dense(wh, x, σ)\n",
    "    x̂.name = \"x̂\"\n",
    "    ŷ = dense(wo, x̂)\n",
    "    ŷ.name = \"ŷ\"\n",
    "    E = mean_squared_loss(y, ŷ)\n",
    "    E.name = \"loss\"\n",
    "\n",
    "    return topological_sort(E)\n",
    "end\n",
    "graph = net(x, Wh, Wo, y)\n",
    "forward!(graph)\n",
    "backward!(graph)\n",
    "\n",
    "for (i,n) in enumerate(graph)\n",
    "    print(i, \". \"); println(n)\n",
    "end"
   ]
  },
  {
   "cell_type": "markdown",
   "id": "7c457220",
   "metadata": {},
   "source": [
    "### Manual derivatives for comparison"
   ]
  },
  {
   "cell_type": "code",
   "execution_count": 51,
   "id": "9e76b77e",
   "metadata": {},
   "outputs": [],
   "source": [
    "eye(n) = diagm(ones(n))\n",
    "Eŷ  = graph[8].output - y.output #ŷ\n",
    "ŷȳ  = graph[8].output |> length |> eye #ŷ\n",
    "ȳWo = graph[7].output |> transpose #x̂\n",
    "x̄Wh = graph[5].output |> transpose #x\n",
    "ȳx̂  = graph[3].output |> transpose #Wo\n",
    "x̂x̄  = graph[7].output .* (1.0 .- graph[7].output) |> diagm #x̂\n",
    "Eȳ  = ŷȳ * Eŷ\n",
    "Ex̂  = ȳx̂ * Eȳ\n",
    "Ex̄  = x̂x̄ * Ex̂\n",
    "EWo = Eȳ * ȳWo\n",
    "EWh = Ex̄ * x̄Wh\n",
    "nothing"
   ]
  },
  {
   "cell_type": "code",
   "execution_count": 52,
   "id": "0e9f9460",
   "metadata": {},
   "outputs": [
    {
     "data": {
      "text/plain": [
       "1×1 Matrix{Float64}:\n",
       " -0.0"
      ]
     },
     "metadata": {},
     "output_type": "display_data"
    }
   ],
   "source": [
    "EWh"
   ]
  },
  {
   "cell_type": "code",
   "execution_count": 53,
   "id": "54e7cd83",
   "metadata": {},
   "outputs": [
    {
     "ename": "MethodError",
     "evalue": "MethodError: no method matching *(::Float64, ::Nothing)\n\nClosest candidates are:\n  *(::Any, ::Any, !Matched::Any, !Matched::Any...)\n   @ Base operators.jl:587\n  *(::Real, !Matched::Complex{Bool})\n   @ Base complex.jl:327\n  *(::Real, !Matched::Dates.Period)\n   @ Dates C:\\Users\\Kiczu\\.julia\\juliaup\\julia-1.10.1+0.x64.w64.mingw32\\share\\julia\\stdlib\\v1.10\\Dates\\src\\periods.jl:91\n  ...\n",
     "output_type": "error",
     "traceback": [
      "MethodError: no method matching *(::Float64, ::Nothing)\n",
      "\n",
      "Closest candidates are:\n",
      "  *(::Any, ::Any, !Matched::Any, !Matched::Any...)\n",
      "   @ Base operators.jl:587\n",
      "  *(::Real, !Matched::Complex{Bool})\n",
      "   @ Base complex.jl:327\n",
      "  *(::Real, !Matched::Dates.Period)\n",
      "   @ Dates C:\\Users\\Kiczu\\.julia\\juliaup\\julia-1.10.1+0.x64.w64.mingw32\\share\\julia\\stdlib\\v1.10\\Dates\\src\\periods.jl:91\n",
      "  ...\n",
      "\n",
      "\n",
      "Stacktrace:\n",
      " [1] top-level scope\n",
      "   @ c:\\Users\\Kiczu\\Desktop\\AutoDiff\\W04.ipynb:3"
     ]
    }
   ],
   "source": [
    "currentloss = forward!(graph)\n",
    "backward!(graph)\n",
    "Wh.output -= 0.01Wh.gradient\n",
    "Wo.output -= 0.01Wo.gradient\n",
    "println(\"Current loss: \", currentloss)\n",
    "push!(losses, first(currentloss))\n"
   ]
  },
  {
   "cell_type": "code",
   "execution_count": 54,
   "id": "romance-gravity",
   "metadata": {},
   "outputs": [],
   "source": [
    "Wh.gradient"
   ]
  },
  {
   "cell_type": "code",
   "execution_count": 55,
   "id": "fa7a9849",
   "metadata": {},
   "outputs": [
    {
     "ename": "ArgumentError",
     "evalue": "ArgumentError: Package PyPlot not found in current path.\n- Run `import Pkg; Pkg.add(\"PyPlot\")` to install the PyPlot package.",
     "output_type": "error",
     "traceback": [
      "ArgumentError: Package PyPlot not found in current path.\n",
      "- Run `import Pkg; Pkg.add(\"PyPlot\")` to install the PyPlot package.\n",
      "\n",
      "Stacktrace:\n",
      "  [1] macro expansion\n",
      "    @ .\\loading.jl:1772 [inlined]\n",
      "  [2] macro expansion\n",
      "    @ .\\lock.jl:267 [inlined]\n",
      "  [3] __require(into::Module, mod::Symbol)\n",
      "    @ Base .\\loading.jl:1753\n",
      "  [4] #invoke_in_world#3\n",
      "    @ .\\essentials.jl:926 [inlined]\n",
      "  [5] invoke_in_world\n",
      "    @ .\\essentials.jl:923 [inlined]\n",
      "  [6] require(into::Module, mod::Symbol)\n",
      "    @ Base .\\loading.jl:1746\n",
      "  [7] eval\n",
      "    @ .\\boot.jl:385 [inlined]\n",
      "  [8] include_string(mapexpr::typeof(REPL.softscope), mod::Module, code::String, filename::String)\n",
      "    @ Base .\\loading.jl:2076\n",
      "  [9] #invokelatest#2\n",
      "    @ .\\essentials.jl:892 [inlined]\n",
      " [10] invokelatest\n",
      "    @ .\\essentials.jl:889 [inlined]\n",
      " [11] (::VSCodeServer.var\"#219#220\"{VSCodeServer.NotebookRunCellArguments, String})()\n",
      "    @ VSCodeServer c:\\Users\\Kiczu\\.vscode\\extensions\\julialang.language-julia-1.79.2\\scripts\\packages\\VSCodeServer\\src\\serve_notebook.jl:19\n",
      " [12] withpath(f::VSCodeServer.var\"#219#220\"{VSCodeServer.NotebookRunCellArguments, String}, path::String)\n",
      "    @ VSCodeServer c:\\Users\\Kiczu\\.vscode\\extensions\\julialang.language-julia-1.79.2\\scripts\\packages\\VSCodeServer\\src\\repl.jl:276\n",
      " [13] notebook_runcell_request(conn::VSCodeServer.JSONRPC.JSONRPCEndpoint{Base.PipeEndpoint, Base.PipeEndpoint}, params::VSCodeServer.NotebookRunCellArguments)\n",
      "    @ VSCodeServer c:\\Users\\Kiczu\\.vscode\\extensions\\julialang.language-julia-1.79.2\\scripts\\packages\\VSCodeServer\\src\\serve_notebook.jl:13\n",
      " [14] dispatch_msg(x::VSCodeServer.JSONRPC.JSONRPCEndpoint{Base.PipeEndpoint, Base.PipeEndpoint}, dispatcher::VSCodeServer.JSONRPC.MsgDispatcher, msg::Dict{String, Any})\n",
      "    @ VSCodeServer.JSONRPC c:\\Users\\Kiczu\\.vscode\\extensions\\julialang.language-julia-1.79.2\\scripts\\packages\\JSONRPC\\src\\typed.jl:67\n",
      " [15] serve_notebook(pipename::String, outputchannel_logger::Base.CoreLogging.SimpleLogger; crashreporting_pipename::String)\n",
      "    @ VSCodeServer c:\\Users\\Kiczu\\.vscode\\extensions\\julialang.language-julia-1.79.2\\scripts\\packages\\VSCodeServer\\src\\serve_notebook.jl:139\n",
      " [16] top-level scope\n",
      "    @ c:\\Users\\Kiczu\\.vscode\\extensions\\julialang.language-julia-1.79.2\\scripts\\notebook\\notebook.jl:35"
     ]
    }
   ],
   "source": [
    "using PyPlot\n",
    "semilogy(losses, \".\")\n",
    "xlabel(\"epoch\")\n",
    "ylabel(\"loss\")\n",
    "grid()"
   ]
  },
  {
   "cell_type": "code",
   "execution_count": 56,
   "id": "92464b29",
   "metadata": {},
   "outputs": [
    {
     "data": {
      "text/plain": [
       "backward (generic function with 10 methods)"
      ]
     },
     "metadata": {},
     "output_type": "display_data"
    }
   ],
   "source": [
    "softmax(x::GraphNode) = BroadcastedOperator(softmax, x)\n",
    "forward(::BroadcastedOperator{typeof(softmax)}, x) = return exp.(x) ./ sum(exp.(x))\n",
    "backward(node::BroadcastedOperator{typeof(softmax)}, x, g) = let\n",
    "    y = node.output\n",
    "    J = diagm(y) .- y * y'\n",
    "    tuple(J' * g)\n",
    "end"
   ]
  },
  {
   "cell_type": "code",
   "execution_count": 57,
   "id": "exact-appendix",
   "metadata": {},
   "outputs": [
    {
     "data": {
      "text/plain": [
       "rosenbrock (generic function with 1 method)"
      ]
     },
     "metadata": {},
     "output_type": "display_data"
    }
   ],
   "source": [
    "rosenbrock(x, y) = (Constant(1.0) .- x .* x) .+ Constant(100.0) .* (y .- x .* x) .* (y .- x .* x)"
   ]
  },
  {
   "cell_type": "code",
   "execution_count": 58,
   "id": "burning-sweden",
   "metadata": {},
   "outputs": [
    {
     "data": {
      "text/plain": [
       "13-element Vector{Any}:\n",
       " const 1.0\n",
       " var x\n",
       " ┣━ ^ 1-element Vector{Float64}\n",
       " ┗━ ∇ Nothing\n",
       " op.?(typeof(*))\n",
       " op.?(typeof(-))\n",
       " const 100.0\n",
       " var y\n",
       " ┣━ ^ 1-element Vector{Float64}\n",
       " ┗━ ∇ Nothing\n",
       " op.?(typeof(*))\n",
       " op.?(typeof(-))\n",
       " op.?(typeof(*))\n",
       " op.?(typeof(*))\n",
       " op.?(typeof(-))\n",
       " op.?(typeof(*))\n",
       " op.?(typeof(+))"
      ]
     },
     "metadata": {},
     "output_type": "display_data"
    }
   ],
   "source": [
    "x = Variable([0.], name=\"x\")\n",
    "y = Variable([0.], name=\"y\")\n",
    "graph = topological_sort(rosenbrock(x, y))"
   ]
  },
  {
   "cell_type": "code",
   "execution_count": 59,
   "id": "connected-pollution",
   "metadata": {},
   "outputs": [],
   "source": [
    "v  = -1:.1:+1\n",
    "n  = length(v)\n",
    "z  = zeros(n, n)\n",
    "dz = zeros(n, n, 2)\n",
    "for i=1:n, j=1:n\n",
    "    x.output .= v[i]\n",
    "    y.output .= v[j]\n",
    "    z[i,j] = first(forward!(graph)); backward!(graph)\n",
    "    dz[i,j,1] = first(x.gradient)\n",
    "    dz[i,j,2] = first(y.gradient)\n",
    "end\n"
   ]
  },
  {
   "cell_type": "code",
   "execution_count": 60,
   "id": "neither-snapshot",
   "metadata": {},
   "outputs": [
    {
     "ename": "ArgumentError",
     "evalue": "ArgumentError: Package PyPlot not found in current path.\n- Run `import Pkg; Pkg.add(\"PyPlot\")` to install the PyPlot package.",
     "output_type": "error",
     "traceback": [
      "ArgumentError: Package PyPlot not found in current path.\n",
      "- Run `import Pkg; Pkg.add(\"PyPlot\")` to install the PyPlot package.\n",
      "\n",
      "Stacktrace:\n",
      "  [1] macro expansion\n",
      "    @ .\\loading.jl:1772 [inlined]\n",
      "  [2] macro expansion\n",
      "    @ .\\lock.jl:267 [inlined]\n",
      "  [3] __require(into::Module, mod::Symbol)\n",
      "    @ Base .\\loading.jl:1753\n",
      "  [4] #invoke_in_world#3\n",
      "    @ .\\essentials.jl:926 [inlined]\n",
      "  [5] invoke_in_world\n",
      "    @ .\\essentials.jl:923 [inlined]\n",
      "  [6] require(into::Module, mod::Symbol)\n",
      "    @ Base .\\loading.jl:1746\n",
      "  [7] eval\n",
      "    @ .\\boot.jl:385 [inlined]\n",
      "  [8] include_string(mapexpr::typeof(REPL.softscope), mod::Module, code::String, filename::String)\n",
      "    @ Base .\\loading.jl:2076\n",
      "  [9] #invokelatest#2\n",
      "    @ .\\essentials.jl:892 [inlined]\n",
      " [10] invokelatest\n",
      "    @ .\\essentials.jl:889 [inlined]\n",
      " [11] (::VSCodeServer.var\"#219#220\"{VSCodeServer.NotebookRunCellArguments, String})()\n",
      "    @ VSCodeServer c:\\Users\\Kiczu\\.vscode\\extensions\\julialang.language-julia-1.79.2\\scripts\\packages\\VSCodeServer\\src\\serve_notebook.jl:19\n",
      " [12] withpath(f::VSCodeServer.var\"#219#220\"{VSCodeServer.NotebookRunCellArguments, String}, path::String)\n",
      "    @ VSCodeServer c:\\Users\\Kiczu\\.vscode\\extensions\\julialang.language-julia-1.79.2\\scripts\\packages\\VSCodeServer\\src\\repl.jl:276\n",
      " [13] notebook_runcell_request(conn::VSCodeServer.JSONRPC.JSONRPCEndpoint{Base.PipeEndpoint, Base.PipeEndpoint}, params::VSCodeServer.NotebookRunCellArguments)\n",
      "    @ VSCodeServer c:\\Users\\Kiczu\\.vscode\\extensions\\julialang.language-julia-1.79.2\\scripts\\packages\\VSCodeServer\\src\\serve_notebook.jl:13\n",
      " [14] dispatch_msg(x::VSCodeServer.JSONRPC.JSONRPCEndpoint{Base.PipeEndpoint, Base.PipeEndpoint}, dispatcher::VSCodeServer.JSONRPC.MsgDispatcher, msg::Dict{String, Any})\n",
      "    @ VSCodeServer.JSONRPC c:\\Users\\Kiczu\\.vscode\\extensions\\julialang.language-julia-1.79.2\\scripts\\packages\\JSONRPC\\src\\typed.jl:67\n",
      " [15] serve_notebook(pipename::String, outputchannel_logger::Base.CoreLogging.SimpleLogger; crashreporting_pipename::String)\n",
      "    @ VSCodeServer c:\\Users\\Kiczu\\.vscode\\extensions\\julialang.language-julia-1.79.2\\scripts\\packages\\VSCodeServer\\src\\serve_notebook.jl:139\n",
      " [16] top-level scope\n",
      "    @ c:\\Users\\Kiczu\\.vscode\\extensions\\julialang.language-julia-1.79.2\\scripts\\notebook\\notebook.jl:35"
     ]
    }
   ],
   "source": [
    "using PyPlot\n",
    "xv = repeat(v, 1, n)\n",
    "yv = repeat(v',n, 1)\n",
    "contourf(xv, yv, z)\n",
    "quiver(xv, yv, dz[:,:,1], dz[:,:,2])"
   ]
  }
 ],
 "metadata": {
  "kernelspec": {
   "display_name": "Julia 1.10.1",
   "language": "julia",
   "name": "julia-1.10"
  },
  "language_info": {
   "file_extension": ".jl",
   "mimetype": "application/julia",
   "name": "julia",
   "version": "1.10.1"
  }
 },
 "nbformat": 4,
 "nbformat_minor": 5
}
