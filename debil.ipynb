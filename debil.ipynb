{
 "cells": [
  {
   "cell_type": "code",
   "execution_count": 12,
   "metadata": {},
   "outputs": [
    {
     "name": "stderr",
     "output_type": "stream",
     "text": [
      "\u001b[32m\u001b[1m   Resolving\u001b[22m\u001b[39m package versions...\n",
      "\u001b[32m\u001b[1m   Installed\u001b[22m\u001b[39m hicolor_icon_theme_jll ───── v0.17.0+3\n",
      "\u001b[32m\u001b[1m   Installed\u001b[22m\u001b[39m Pango_jll ────────────────── v1.52.2+0\n",
      "\u001b[32m\u001b[1m   Installed\u001b[22m\u001b[39m adwaita_icon_theme_jll ───── v3.33.93+0\n",
      "\u001b[32m\u001b[1m   Installed\u001b[22m\u001b[39m GTK3_jll ─────────────────── v3.24.31+0\n",
      "\u001b[32m\u001b[1m   Installed\u001b[22m\u001b[39m at_spi2_core_jll ─────────── v2.34.0+4\n",
      "\u001b[32m\u001b[1m   Installed\u001b[22m\u001b[39m Xorg_libXcomposite_jll ───── v0.4.5+4\n",
      "\u001b[32m\u001b[1m   Installed\u001b[22m\u001b[39m iso_codes_jll ────────────── v4.15.1+0\n",
      "\u001b[32m\u001b[1m   Installed\u001b[22m\u001b[39m Gtk ──────────────────────── v1.3.0\n",
      "\u001b[32m\u001b[1m   Installed\u001b[22m\u001b[39m Libepoxy_jll ─────────────── v1.5.10+0\n",
      "\u001b[32m\u001b[1m   Installed\u001b[22m\u001b[39m Graphics ─────────────────── v1.1.2\n",
      "\u001b[32m\u001b[1m   Installed\u001b[22m\u001b[39m LeftChildRightSiblingTrees ─ v0.2.0\n",
      "\u001b[32m\u001b[1m   Installed\u001b[22m\u001b[39m RoundingIntegers ─────────── v1.1.0\n",
      "\u001b[32m\u001b[1m   Installed\u001b[22m\u001b[39m gdk_pixbuf_jll ───────────── v2.42.10+0\n",
      "\u001b[32m\u001b[1m   Installed\u001b[22m\u001b[39m Dbus_jll ─────────────────── v1.12.16+3\n",
      "\u001b[32m\u001b[1m   Installed\u001b[22m\u001b[39m FlameGraphs ──────────────── v1.0.0\n",
      "\u001b[32m\u001b[1m   Installed\u001b[22m\u001b[39m Xorg_libXtst_jll ─────────── v1.2.3+4\n",
      "\u001b[32m\u001b[1m   Installed\u001b[22m\u001b[39m at_spi2_atk_jll ──────────── v2.34.1+4\n",
      "\u001b[32m\u001b[1m   Installed\u001b[22m\u001b[39m ATK_jll ──────────────────── v2.38.0+0\n",
      "\u001b[32m\u001b[1m   Installed\u001b[22m\u001b[39m AbstractTrees ────────────── v0.4.5\n",
      "\u001b[32m\u001b[1m   Installed\u001b[22m\u001b[39m Librsvg_jll ──────────────── v2.54.5+0\n",
      "\u001b[32m\u001b[1m   Installed\u001b[22m\u001b[39m IntervalSets ─────────────── v0.7.10\n",
      "\u001b[32m\u001b[1m   Installed\u001b[22m\u001b[39m ProfileView ──────────────── v1.7.2\n",
      "\u001b[32m\u001b[1m   Installed\u001b[22m\u001b[39m GtkObservables ───────────── v1.2.9\n",
      "\u001b[32m\u001b[1m   Installed\u001b[22m\u001b[39m Observables ──────────────── v0.5.5\n",
      "\u001b[32m\u001b[1m   Installed\u001b[22m\u001b[39m IndirectArrays ───────────── v1.0.0\n",
      "\u001b[32m\u001b[1m   Installed\u001b[22m\u001b[39m Xorg_libXdamage_jll ──────── v1.1.5+4\n",
      "\u001b[32m\u001b[1m   Installed\u001b[22m\u001b[39m MethodAnalysis ───────────── v0.4.13\n",
      "\u001b[32m\u001b[1m   Installed\u001b[22m\u001b[39m Cairo ────────────────────── v1.0.5\n",
      "\u001b[32m\u001b[1m    Updating\u001b[22m\u001b[39m `C:\\Users\\Kiczu\\.julia\\environments\\v1.10\\Project.toml`\n",
      "  \u001b[90m[c46f51b8] \u001b[39m\u001b[92m+ ProfileView v1.7.2\u001b[39m\n",
      "\u001b[32m\u001b[1m    Updating\u001b[22m\u001b[39m `C:\\Users\\Kiczu\\.julia\\environments\\v1.10\\Manifest.toml`\n",
      "  \u001b[90m[1520ce14] \u001b[39m\u001b[92m+ AbstractTrees v0.4.5\u001b[39m\n",
      "  \u001b[90m[159f3aea] \u001b[39m\u001b[92m+ Cairo v1.0.5\u001b[39m\n",
      "  \u001b[90m[08572546] \u001b[39m\u001b[92m+ FlameGraphs v1.0.0\u001b[39m\n",
      "  \u001b[90m[a2bd30eb] \u001b[39m\u001b[92m+ Graphics v1.1.2\u001b[39m\n",
      "  \u001b[90m[4c0ca9eb] \u001b[39m\u001b[92m+ Gtk v1.3.0\u001b[39m\n",
      "\u001b[33m⌅\u001b[39m \u001b[90m[8710efd8] \u001b[39m\u001b[92m+ GtkObservables v1.2.9\u001b[39m\n",
      "  \u001b[90m[9b13fd28] \u001b[39m\u001b[92m+ IndirectArrays v1.0.0\u001b[39m\n",
      "  \u001b[90m[8197267c] \u001b[39m\u001b[92m+ IntervalSets v0.7.10\u001b[39m\n",
      "  \u001b[90m[1d6d02ad] \u001b[39m\u001b[92m+ LeftChildRightSiblingTrees v0.2.0\u001b[39m\n",
      "  \u001b[90m[85b6ec6f] \u001b[39m\u001b[92m+ MethodAnalysis v0.4.13\u001b[39m\n",
      "  \u001b[90m[510215fc] \u001b[39m\u001b[92m+ Observables v0.5.5\u001b[39m\n",
      "  \u001b[90m[c46f51b8] \u001b[39m\u001b[92m+ ProfileView v1.7.2\u001b[39m\n",
      "  \u001b[90m[d5f540fe] \u001b[39m\u001b[92m+ RoundingIntegers v1.1.0\u001b[39m\n",
      "  \u001b[90m[7b86fcea] \u001b[39m\u001b[92m+ ATK_jll v2.38.0+0\u001b[39m\n",
      "  \u001b[90m[ee1fde0b] \u001b[39m\u001b[92m+ Dbus_jll v1.12.16+3\u001b[39m\n",
      "  \u001b[90m[77ec8976] \u001b[39m\u001b[92m+ GTK3_jll v3.24.31+0\u001b[39m\n",
      "  \u001b[90m[42c93a91] \u001b[39m\u001b[92m+ Libepoxy_jll v1.5.10+0\u001b[39m\n",
      "  \u001b[90m[925c91fb] \u001b[39m\u001b[92m+ Librsvg_jll v2.54.5+0\u001b[39m\n",
      "  \u001b[90m[36c8627f] \u001b[39m\u001b[92m+ Pango_jll v1.52.2+0\u001b[39m\n",
      "  \u001b[90m[3c9796d7] \u001b[39m\u001b[92m+ Xorg_libXcomposite_jll v0.4.5+4\u001b[39m\n",
      "  \u001b[90m[0aeada51] \u001b[39m\u001b[92m+ Xorg_libXdamage_jll v1.1.5+4\u001b[39m\n",
      "  \u001b[90m[b6f176f1] \u001b[39m\u001b[92m+ Xorg_libXtst_jll v1.2.3+4\u001b[39m\n",
      "\u001b[33m⌅\u001b[39m \u001b[90m[b437f822] \u001b[39m\u001b[92m+ adwaita_icon_theme_jll v3.33.93+0\u001b[39m\n",
      "  \u001b[90m[de012916] \u001b[39m\u001b[92m+ at_spi2_atk_jll v2.34.1+4\u001b[39m\n",
      "  \u001b[90m[0fc3237b] \u001b[39m\u001b[92m+ at_spi2_core_jll v2.34.0+4\u001b[39m\n",
      "  \u001b[90m[da03df04] \u001b[39m\u001b[92m+ gdk_pixbuf_jll v2.42.10+0\u001b[39m\n",
      "  \u001b[90m[059c91fe] \u001b[39m\u001b[92m+ hicolor_icon_theme_jll v0.17.0+3\u001b[39m\n",
      "  \u001b[90m[bf975903] \u001b[39m\u001b[92m+ iso_codes_jll v4.15.1+0\u001b[39m\n",
      "\u001b[36m\u001b[1m        Info\u001b[22m\u001b[39m Packages marked with \u001b[33m⌅\u001b[39m have new versions available but compatibility constraints restrict them from upgrading. To see why use `status --outdated -m`\n",
      "\u001b[32m\u001b[1mPrecompiling\u001b[22m\u001b[39m project...\n",
      "\u001b[32m  ✓ \u001b[39m\u001b[90mRoundingIntegers\u001b[39m\n",
      "\u001b[32m  ✓ \u001b[39m\u001b[90mIndirectArrays\u001b[39m\n",
      "\u001b[32m  ✓ \u001b[39m\u001b[90mObservables\u001b[39m\n",
      "\u001b[32m  ✓ \u001b[39m\u001b[90mIntervalSets\u001b[39m\n",
      "\u001b[32m  ✓ \u001b[39m\u001b[90mAbstractTrees\u001b[39m\n",
      "\u001b[32m  ✓ \u001b[39m\u001b[90mhicolor_icon_theme_jll\u001b[39m\n",
      "\u001b[32m  ✓ \u001b[39m\u001b[90miso_codes_jll\u001b[39m\n",
      "\u001b[32m  ✓ \u001b[39m\u001b[90mDbus_jll\u001b[39m\n",
      "\u001b[32m  ✓ \u001b[39m\u001b[90mXorg_libXtst_jll\u001b[39m\n",
      "\u001b[32m  ✓ \u001b[39m\u001b[90mGraphics\u001b[39m\n",
      "\u001b[32m  ✓ \u001b[39m\u001b[90mATK_jll\u001b[39m\n",
      "\u001b[32m  ✓ \u001b[39m\u001b[90mXorg_libXcomposite_jll\u001b[39m\n",
      "\u001b[32m  ✓ \u001b[39m\u001b[90mXorg_libXdamage_jll\u001b[39m\n",
      "\u001b[32m  ✓ \u001b[39m\u001b[90mgdk_pixbuf_jll\u001b[39m\n",
      "\u001b[32m  ✓ \u001b[39m\u001b[90mLeftChildRightSiblingTrees\u001b[39m\n",
      "\u001b[32m  ✓ \u001b[39m\u001b[90mMethodAnalysis\u001b[39m\n",
      "\u001b[32m  ✓ \u001b[39m\u001b[90mLibepoxy_jll\u001b[39m\n",
      "\u001b[32m  ✓ \u001b[39m\u001b[90mPango_jll\u001b[39m\n",
      "\u001b[32m  ✓ \u001b[39m\u001b[90madwaita_icon_theme_jll\u001b[39m\n",
      "\u001b[32m  ✓ \u001b[39m\u001b[90mConstructionBase → ConstructionBaseIntervalSetsExt\u001b[39m\n",
      "\u001b[32m  ✓ \u001b[39m\u001b[90mat_spi2_core_jll\u001b[39m\n",
      "\u001b[32m  ✓ \u001b[39m\u001b[90mIntervalSets → IntervalSetsRecipesBaseExt\u001b[39m\n",
      "\u001b[32m  ✓ \u001b[39m\u001b[90mIntervalSets → IntervalSetsRandomExt\u001b[39m\n",
      "\u001b[32m  ✓ \u001b[39m\u001b[90mLibrsvg_jll\u001b[39m\n",
      "\u001b[32m  ✓ \u001b[39m\u001b[90mat_spi2_atk_jll\u001b[39m\n",
      "\u001b[32m  ✓ \u001b[39m\u001b[90mCairo\u001b[39m\n",
      "\u001b[32m  ✓ \u001b[39m\u001b[90mIntervalSets → IntervalSetsStatisticsExt\u001b[39m\n",
      "\u001b[32m  ✓ \u001b[39m\u001b[90mFlameGraphs\u001b[39m\n",
      "\u001b[32m  ✓ \u001b[39m\u001b[90mGTK3_jll\u001b[39m\n",
      "\u001b[32m  ✓ \u001b[39m\u001b[90mGtk\u001b[39m\n",
      "\u001b[32m  ✓ \u001b[39m\u001b[90mGtkObservables\u001b[39m\n",
      "ProfileView\u001b[33m Waiting for background task / IO / timer.\u001b[39m\n",
      "[pid 14548] waiting for IO to finish:\n",
      " Handle type        uv_handle_t->data\n",
      " timer              0000021b128c2c40->0000021b168d29b0\n",
      "This means that a package has started a background task or event source that has not finished running. For precompilation to complete successfully, the event source needs to be closed explicitly. See the developer documentation on fixing precompilation hangs for more help.\n",
      "\u001b[32m  ✓ \u001b[39mProfileView\n",
      "  32 dependencies successfully precompiled in 42 seconds. 304 already precompiled.\n",
      "  \u001b[33m1\u001b[39m dependency had output during precompilation:\u001b[33m\n",
      "┌ \u001b[39mProfileView\u001b[33m\n",
      "│  \u001b[39m[pid 14548] waiting for IO to finish:\u001b[33m\n",
      "│  \u001b[39m Handle type        uv_handle_t->data\u001b[33m\n",
      "│  \u001b[39m timer              0000021b128c2c40->0000021b168d29b0\u001b[33m\n",
      "│  \u001b[39mThis means that a package has started a background task or event source that has not finished running. For precompilation to complete successfully, the event source needs to be closed explicitly. See the developer documentation on fixing precompilation hangs for more help.\u001b[33m\n",
      "└  \u001b[39m\n"
     ]
    }
   ],
   "source": [
    "import Pkg; Pkg.add(\"ProfileView\")"
   ]
  },
  {
   "cell_type": "code",
   "execution_count": 10,
   "metadata": {},
   "outputs": [
    {
     "name": "stdout",
     "output_type": "stream",
     "text": [
      "\u001b[0m\u001b[1m ────────────────────────────────────────────────────────────────────\u001b[22m\n",
      "\u001b[0m\u001b[1m                   \u001b[22m         Time                    Allocations      \n",
      "                   ───────────────────────   ────────────────────────\n",
      " Tot / % measured:      3.19s /  94.9%           26.1MiB /   0.0%    \n",
      "\n",
      " Section   ncalls     time    %tot     avg     alloc    %tot      avg\n",
      " ────────────────────────────────────────────────────────────────────\n",
      " część 2        1    2.01s   66.6%   2.01s      992B   57.4%     992B\n",
      " część 1        1    1.01s   33.4%   1.01s      736B   42.6%     736B\n",
      "\u001b[0m\u001b[1m ────────────────────────────────────────────────────────────────────\u001b[22m"
     ]
    }
   ],
   "source": [
    "using TimerOutputs\n",
    "\n",
    "const to = TimerOutput()\n",
    "\n",
    "function example_function()\n",
    "    @timeit to \"część 1\" begin\n",
    "        # Kod do profilowania (część 1)\n",
    "        sleep(1)  # Przykładowy czasochłonny kod\n",
    "    end\n",
    "\n",
    "    @timeit to \"część 2\" begin\n",
    "        # Kod do profilowania (część 2)\n",
    "        sleep(2)  # Przykładowy czasochłonny kod\n",
    "    end\n",
    "end\n",
    "\n",
    "example_function()\n",
    "\n",
    "show(to)\n"
   ]
  },
  {
   "cell_type": "code",
   "execution_count": 2,
   "metadata": {},
   "outputs": [
    {
     "name": "stdout",
     "output_type": "stream",
     "text": [
      "Overhead ╎ [+additional indent] Count File:Line; Function\n",
      "=========================================================\n",
      " ╎15 @IJulia\\src\\eventloop.jl:38; (::IJulia.var\"#15#18\")()\n",
      " ╎ 15 @IJulia\\src\\eventloop.jl:8; eventloop(socket::ZMQ.Socket)\n",
      " ╎  15 @Base\\essentials.jl:889; invokelatest\n",
      " ╎   15 @Base\\essentials.jl:892; #invokelatest#2\n",
      " ╎    15 …src\\execute_request.jl:67; execute_request(socket::ZMQ.Socket, msg::I…\n",
      " ╎     15 …src\\SoftGlobalScope.jl:65; softscope_include_string(m::Module, code:…\n",
      " ╎    ╎ 15 @Base\\loading.jl:2076; include_string(mapexpr::typeof(REPL.softscope…\n",
      " ╎    ╎  15 @Base\\boot.jl:385; eval\n",
      " ╎    ╎   1  In[2]:6; example_function()\n",
      " ╎    ╎    1  …Random\\src\\Random.jl:279; rand\n",
      " ╎    ╎     1  …andom\\src\\Random.jl:291; rand\n",
      " ╎    ╎    ╎ 1  …andom\\src\\Random.jl:290; rand\n",
      " ╎    ╎    ╎  1  …andom\\src\\Random.jl:269; rand!\n",
      " ╎    ╎    ╎   1  …src\\XoshiroSimd.jl:293; rand!\n",
      " ╎    ╎    ╎    1  …src\\XoshiroSimd.jl:142; xoshiro_bulk\n",
      " ╎    ╎    ╎     1  …rc\\XoshiroSimd.jl:254; xoshiro_bulk_simd(rng::Random.TaskL…\n",
      " ╎    ╎    ╎    ╎ 1  …rc\\XoshiroSimd.jl:77; _xor\n",
      " ╎    ╎   1  In[2]:7; example_function()\n",
      " ╎    ╎    1  …Random\\src\\Random.jl:279; rand\n",
      " ╎    ╎     1  …andom\\src\\Random.jl:291; rand\n",
      " ╎    ╎    ╎ 1  …andom\\src\\Random.jl:290; rand\n",
      " ╎    ╎    ╎  1  …andom\\src\\Random.jl:269; rand!\n",
      " ╎    ╎    ╎   1  …src\\XoshiroSimd.jl:293; rand!\n",
      " ╎    ╎    ╎    1  …src\\XoshiroSimd.jl:142; xoshiro_bulk\n",
      " ╎    ╎    ╎     1  …rc\\XoshiroSimd.jl:249; xoshiro_bulk_simd(rng::Random.TaskL…\n",
      "1╎    ╎    ╎    ╎ 1  …rc\\XoshiroSimd.jl:58; _rotl23\n",
      " ╎    ╎   12 In[2]:8; example_function()\n",
      " ╎    ╎    12 …lgebra\\src\\matmul.jl:113; *(A::Matrix{Float64}, B::Matrix{Float6…\n",
      " ╎    ╎     9  @Base\\array.jl:420; similar\n",
      " ╎    ╎    ╎ 9  @Base\\boot.jl:487; Array\n",
      "9╎    ╎    ╎  9  @Base\\boot.jl:479; Array\n",
      " ╎    ╎     3  …gebra\\src\\matmul.jl:237; mul!\n",
      " ╎    ╎    ╎ 3  …gebra\\src\\matmul.jl:263; mul!\n",
      " ╎    ╎    ╎  3  …gebra\\src\\matmul.jl:352; generic_matmatmul!\n",
      " ╎    ╎    ╎   3  …ebra\\src\\matmul.jl:605; gemm_wrapper!(C::Matrix{Float64}, tA…\n",
      "3╎    ╎    ╎    3  …gebra\\src\\blas.jl:1524; gemm!(transA::Char, transB::Char, a…\n",
      " ╎    ╎   1  In[2]:9; example_function()\n",
      " ╎    ╎    1  @Base\\reducedim.jl:1010; sum\n",
      " ╎    ╎     1  @Base\\reducedim.jl:1010; #sum#828\n",
      " ╎    ╎    ╎ 1  @Base\\reducedim.jl:1014; _sum\n",
      " ╎    ╎    ╎  1  @Base\\reducedim.jl:1014; #_sum#830\n",
      " ╎    ╎    ╎   1  @Base\\reducedim.jl:1015; _sum\n",
      " ╎    ╎    ╎    1  @Base\\reducedim.jl:1015; #_sum#831\n",
      " ╎    ╎    ╎     1  @Base\\reducedim.jl:357; mapreduce\n",
      " ╎    ╎    ╎    ╎ 1  @Base\\reducedim.jl:357; #mapreduce#821\n",
      " ╎    ╎    ╎    ╎  1  @Base\\reducedim.jl:365; _mapreduce_dim\n",
      " ╎    ╎    ╎    ╎   1  @Base\\reduce.jl:447; _mapreduce(f::typeof(identity), op:…\n",
      " ╎    ╎    ╎    ╎    1  @Base\\reduce.jl:277; mapreduce_impl\n",
      " ╎    ╎    ╎    ╎     1  @Base\\reduce.jl:272; mapreduce_impl(f::typeof(identity…\n",
      " ╎    ╎    ╎    ╎    ╎ 1  @Base\\reduce.jl:272; mapreduce_impl(f::typeof(identit…\n",
      " ╎    ╎    ╎    ╎    ╎  1  @Base\\reduce.jl:271; mapreduce_impl(f::typeof(identi…\n",
      " ╎    ╎    ╎    ╎    ╎   1  @Base\\reduce.jl:271; mapreduce_impl(f::typeof(ident…\n",
      " ╎    ╎    ╎    ╎    ╎    1  @Base\\reduce.jl:272; mapreduce_impl(f::typeof(iden…\n",
      " ╎    ╎    ╎    ╎    ╎     1  …ase\\reduce.jl:271; mapreduce_impl(f::typeof(iden…\n",
      " ╎    ╎    ╎    ╎    ╎    ╎ 1  …ase\\reduce.jl:272; mapreduce_impl(f::typeof(ide…\n",
      " ╎    ╎    ╎    ╎    ╎    ╎  1  …ase\\reduce.jl:272; mapreduce_impl(f::typeof(id…\n",
      " ╎    ╎    ╎    ╎    ╎    ╎   1  …se\\reduce.jl:271; mapreduce_impl(f::typeof(id…\n",
      " ╎    ╎    ╎    ╎    ╎    ╎    1  …se\\reduce.jl:271; mapreduce_impl(f::typeof(i…\n",
      " ╎    ╎    ╎    ╎    ╎    ╎     1  …e\\reduce.jl:263; mapreduce_impl(f::typeof(i…\n",
      " ╎    ╎    ╎    ╎    ╎    ╎    ╎ 1  …simdloop.jl:77; macro expansion\n",
      " ╎    ╎    ╎    ╎    ╎    ╎    ╎  1  …e\\reduce.jl:265; macro expansion\n",
      " ╎    ╎    ╎    ╎    ╎    ╎    ╎   1  …e\\reduce.jl:27; add_sum\n",
      "1╎    ╎    ╎    ╎    ╎    ╎    ╎    1  …se\\float.jl:409; +\n",
      "Total snapshots: 21. Utilization: 100% across all threads and tasks. Use the `groupby` kwarg to break down by thread and/or task.\n"
     ]
    },
    {
     "data": {
      "text/plain": [
       "Gtk.GtkWindowLeaf(name=\"\", parent, width-request=-1, height-request=-1, visible=TRUE, sensitive=TRUE, app-paintable=FALSE, can-focus=FALSE, has-focus=FALSE, is-focus=FALSE, focus-on-click=TRUE, can-default=FALSE, has-default=FALSE, receives-default=FALSE, composite-child=FALSE, style, events=0, no-show-all=FALSE, has-tooltip=FALSE, tooltip-markup=NULL, tooltip-text=NULL, window, opacity=1,000000, double-buffered, halign=GTK_ALIGN_FILL, valign=GTK_ALIGN_FILL, margin-left, margin-right, margin-start=0, margin-end=0, margin-top=0, margin-bottom=0, margin=0, hexpand=FALSE, vexpand=FALSE, hexpand-set=FALSE, vexpand-set=FALSE, expand=FALSE, scale-factor=1, border-width=0, resize-mode, child, type=GTK_WINDOW_TOPLEVEL, title=\"Profile\", role=NULL, resizable=TRUE, modal=FALSE, window-position=GTK_WIN_POS_NONE, default-width=800, default-height=600, destroy-with-parent=FALSE, hide-titlebar-when-maximized=FALSE, icon, icon-name=NULL, screen, type-hint=GDK_WINDOW_TYPE_HINT_NORMAL, skip-taskbar-hint=FALSE, skip-pager-hint=FALSE, urgency-hint=FALSE, accept-focus=TRUE, focus-on-map=TRUE, decorated=TRUE, deletable=TRUE, gravity=GDK_GRAVITY_NORTH_WEST, transient-for, attached-to, has-resize-grip, resize-grip-visible, application, is-active=TRUE, has-toplevel-focus=TRUE, startup-id, mnemonics-visible=FALSE, focus-visible=FALSE, is-maximized=FALSE)"
      ]
     },
     "execution_count": 2,
     "metadata": {},
     "output_type": "execute_result"
    }
   ],
   "source": [
    "using Profile\n",
    "using ProfileView\n",
    "\n",
    "# Funkcja do profilowania\n",
    "function example_function()\n",
    "    a = rand(1000, 1000)\n",
    "    b = rand(1000, 1000)\n",
    "    c = a * b  # Mnożenie macierzy, czasochłonne\n",
    "    d = sum(c)  # Sumowanie elementów macierzy\n",
    "    return d\n",
    "end\n",
    "\n",
    "# Wyczyść wcześniejsze dane profilowania\n",
    "Profile.clear()\n",
    "\n",
    "# Uruchom profilowanie\n",
    "@profile example_function()\n",
    "\n",
    "# Wyświetl wyniki profilowania w konsoli\n",
    "Profile.print()\n",
    "\n",
    "# Opcjonalnie, wizualizuj wyniki\n",
    "ProfileView.view()\n"
   ]
  },
  {
   "cell_type": "code",
   "execution_count": 3,
   "metadata": {},
   "outputs": [
    {
     "name": "stdout",
     "output_type": "stream",
     "text": [
      "𝟏 = ones(length(x)) = [1.0, 1.0, 1.0, 1.0, 1.0, 1.0, 1.0, 1.0, 1.0, 1.0, 1.0, 1.0, 1.0, 1.0, 1.0, 1.0, 1.0, 1.0, 1.0, 1.0, 1.0, 1.0, 1.0, 1.0, 1.0, 1.0, 1.0, 1.0, 1.0, 1.0, 1.0, 1.0, 1.0, 1.0, 1.0, 1.0, 1.0, 1.0, 1.0, 1.0, 1.0, 1.0, 1.0, 1.0, 1.0, 1.0, 1.0, 1.0, 1.0, 1.0, 1.0, 1.0, 1.0, 1.0, 1.0, 1.0, 1.0, 1.0, 1.0, 1.0, 1.0, 1.0, 1.0, 1.0, 1.0, 1.0, 1.0, 1.0, 1.0, 1.0, 1.0, 1.0, 1.0, 1.0, 1.0, 1.0, 1.0, 1.0, 1.0, 1.0, 1.0, 1.0, 1.0, 1.0, 1.0, 1.0, 1.0, 1.0, 1.0, 1.0, 1.0, 1.0, 1.0, 1.0, 1.0, 1.0, 1.0, 1.0, 1.0, 1.0]\n",
      "J = 𝟏' = [1.0 1.0 1.0 1.0 1.0 1.0 1.0 1.0 1.0 1.0 1.0 1.0 1.0 1.0 1.0 1.0 1.0 1.0 1.0 1.0 1.0 1.0 1.0 1.0 1.0 1.0 1.0 1.0 1.0 1.0 1.0 1.0 1.0 1.0 1.0 1.0 1.0 1.0 1.0 1.0 1.0 1.0 1.0 1.0 1.0 1.0 1.0 1.0 1.0 1.0 1.0 1.0 1.0 1.0 1.0 1.0 1.0 1.0 1.0 1.0 1.0 1.0 1.0 1.0 1.0 1.0 1.0 1.0 1.0 1.0 1.0 1.0 1.0 1.0 1.0 1.0 1.0 1.0 1.0 1.0 1.0 1.0 1.0 1.0 1.0 1.0 1.0 1.0 1.0 1.0 1.0 1.0 1.0 1.0 1.0 1.0 1.0 1.0 1.0 1.0]\n"
     ]
    },
    {
     "data": {
      "text/plain": [
       "1×100 adjoint(::Vector{Float64}) with eltype Float64:\n",
       " 1.0  1.0  1.0  1.0  1.0  1.0  1.0  1.0  …  1.0  1.0  1.0  1.0  1.0  1.0  1.0"
      ]
     },
     "execution_count": 3,
     "metadata": {},
     "output_type": "execute_result"
    }
   ],
   "source": [
    "x = rand(10,10)\n",
    "@show 𝟏 = ones(length(x))\n",
    "@show J = 𝟏'\n"
   ]
  },
  {
   "cell_type": "code",
   "execution_count": 5,
   "metadata": {},
   "outputs": [
    {
     "ename": "LoadError",
     "evalue": "DimensionMismatch: matrix A has dimensions (1,5), matrix B has dimensions (1,1)",
     "output_type": "error",
     "traceback": [
      "DimensionMismatch: matrix A has dimensions (1,5), matrix B has dimensions (1,1)",
      "",
      "Stacktrace:",
      " [1] _generic_matmatmul!(C::Matrix{Float64}, tA::Char, tB::Char, A::Matrix{Int64}, B::Matrix{Float64}, _add::LinearAlgebra.MulAddMul{true, true, Bool, Bool})",
      "   @ LinearAlgebra C:\\Users\\Kiczu\\.julia\\juliaup\\julia-1.10.1+0.x64.w64.mingw32\\share\\julia\\stdlib\\v1.10\\LinearAlgebra\\src\\matmul.jl:794",
      " [2] generic_matmatmul!(C::Matrix{Float64}, tA::Char, tB::Char, A::Matrix{Int64}, B::Matrix{Float64}, _add::LinearAlgebra.MulAddMul{true, true, Bool, Bool})",
      "   @ LinearAlgebra C:\\Users\\Kiczu\\.julia\\juliaup\\julia-1.10.1+0.x64.w64.mingw32\\share\\julia\\stdlib\\v1.10\\LinearAlgebra\\src\\matmul.jl:783",
      " [3] mul!",
      "   @ C:\\Users\\Kiczu\\.julia\\juliaup\\julia-1.10.1+0.x64.w64.mingw32\\share\\julia\\stdlib\\v1.10\\LinearAlgebra\\src\\matmul.jl:263 [inlined]",
      " [4] mul!",
      "   @ C:\\Users\\Kiczu\\.julia\\juliaup\\julia-1.10.1+0.x64.w64.mingw32\\share\\julia\\stdlib\\v1.10\\LinearAlgebra\\src\\matmul.jl:237 [inlined]",
      " [5] *(A::Matrix{Int64}, B::Matrix{Float64})",
      "   @ LinearAlgebra C:\\Users\\Kiczu\\.julia\\juliaup\\julia-1.10.1+0.x64.w64.mingw32\\share\\julia\\stdlib\\v1.10\\LinearAlgebra\\src\\matmul.jl:106",
      " [6] top-level scope",
      "   @ In[5]:1"
     ]
    }
   ],
   "source": [
    "A*x"
   ]
  },
  {
   "cell_type": "code",
   "execution_count": null,
   "metadata": {},
   "outputs": [
    {
     "name": "stdout",
     "output_type": "stream",
     "text": [
      "5\n"
     ]
    }
   ],
   "source": [
    "function test(input...)\n",
    "    # for i in input\n",
    "    #     println(i)\n",
    "    # end\n",
    "    println(input[end])\n",
    "end\n",
    "\n",
    "test(1, 2, 3, 4, 5)\n",
    "\n"
   ]
  },
  {
   "cell_type": "code",
   "execution_count": null,
   "metadata": {},
   "outputs": [
    {
     "data": {
      "text/plain": [
       "mgs (generic function with 1 method)"
      ]
     },
     "metadata": {},
     "output_type": "display_data"
    }
   ],
   "source": [
    "    using LinearAlgebra\n",
    "    using BenchmarkTools\n",
    "    function mgs(A::Matrix{Float64})\n",
    "        n, _ = size(A)\n",
    "        v = A[:, 1]\n",
    "        Q = zeros(n, n)\n",
    "        for j = 1:n\n",
    "            v = A[:, j]\n",
    "            for k = 1:j-1\n",
    "                v .-= (Q[:, k]' * v) * Q[:, k]\n",
    "            end\n",
    "            Q[:, j] .= v ./ norm(v)\n",
    "        end\n",
    "        R = Q' * A\n",
    "        return Q, R\n",
    "    end\n",
    "   "
   ]
  },
  {
   "cell_type": "code",
   "execution_count": null,
   "metadata": {},
   "outputs": [
    {
     "data": {
      "text/plain": [
       "mgs (generic function with 1 method)"
      ]
     },
     "metadata": {},
     "output_type": "display_data"
    }
   ],
   "source": [
    "using LinearAlgebra\n",
    "using BenchmarkTools\n",
    "function mgs(A::Matrix{Float64})\n",
    "    n, _ = size(A)\n",
    "    v = A[:, 1]\n",
    "    Q = zeros(n, n)\n",
    "    for j = 1:n\n",
    "        @inbounds v = A[:, j]\n",
    "        for k = 1:j-1\n",
    "            @inbounds v .-= (Q[:, k]' * v) * Q[:, k]\n",
    "        end\n",
    "        @inbounds Q[:, j] .= v ./ norm(v)\n",
    "    end\n",
    "    R = Q' * A\n",
    "    return Q, R\n",
    "end\n"
   ]
  },
  {
   "cell_type": "code",
   "execution_count": null,
   "metadata": {},
   "outputs": [
    {
     "data": {
      "text/plain": [
       "mgs_opt (generic function with 1 method)"
      ]
     },
     "metadata": {},
     "output_type": "display_data"
    }
   ],
   "source": [
    "using LinearAlgebra\n",
    "using BenchmarkTools\n",
    " function mgs_opt(A::Matrix{Float64})\n",
    "    n, _ = size(A)\n",
    "    Q = similar(A)\n",
    "    @inbounds for j = 1:n\n",
    "          v = A[:, j]\n",
    "        for k = 1:j-1\n",
    "         qq = view(Q,:,k)\n",
    "            v .-= (qq' * v) * qq\n",
    "        end\n",
    "         Q[:, j] .= v ./ norm(v)\n",
    "    end\n",
    "    R = Q' * A\n",
    "    return Q, R\n",
    "end\n"
   ]
  },
  {
   "cell_type": "code",
   "execution_count": 2,
   "metadata": {},
   "outputs": [
    {
     "data": {
      "text/plain": [
       "10×10 Matrix{Float64}:\n",
       " 0.607237   0.40335   0.20244    …  0.200566   0.0151631   0.799445\n",
       " 0.568152   0.255963  0.527448      0.393641   0.849779    0.0845132\n",
       " 0.776992   0.539295  0.977346      0.933738   0.462802    0.242235\n",
       " 0.5727     0.599289  0.820635      0.246652   0.244289    0.0633997\n",
       " 0.343218   0.610217  0.0993342     0.45018    0.354204    0.276276\n",
       " 0.880719   0.965412  0.323334   …  0.784341   0.245439    0.0535157\n",
       " 0.489238   0.885271  0.913733      0.0593086  0.476143    0.940931\n",
       " 0.0533008  0.488702  0.934209      0.0902011  0.409699    0.180296\n",
       " 0.888908   0.56059   0.362866      0.554866   0.638536    0.132481\n",
       " 0.790957   0.975239  0.278804      0.350955   0.00402495  0.37241"
      ]
     },
     "execution_count": 2,
     "metadata": {},
     "output_type": "execute_result"
    }
   ],
   "source": [
    "A = rand(10,10)\n"
   ]
  },
  {
   "cell_type": "code",
   "execution_count": 6,
   "metadata": {},
   "outputs": [
    {
     "data": {
      "text/plain": [
       "3×10 Matrix{Float64}:\n",
       " 0.301697  0.301697  0.301697  0.301697  …  0.301697  0.301697  0.301697\n",
       " 0.107275  0.107275  0.107275  0.107275     0.107275  0.107275  0.107275\n",
       " 0.505665  0.505665  0.505665  0.505665     0.505665  0.505665  0.505665"
      ]
     },
     "execution_count": 6,
     "metadata": {},
     "output_type": "execute_result"
    }
   ],
   "source": [
    "A = zeros(3,3)\n",
    "x = zeros(3,10)\n",
    "b = rand(3)\n",
    "\n",
    "A*x.+b"
   ]
  },
  {
   "cell_type": "code",
   "execution_count": 6,
   "metadata": {},
   "outputs": [
    {
     "data": {
      "text/plain": [
       "NaN"
      ]
     },
     "execution_count": 6,
     "metadata": {},
     "output_type": "execute_result"
    }
   ],
   "source": [
    "NaN\n",
    "x = 3\n",
    "x - 0.05* NaN"
   ]
  }
 ],
 "metadata": {
  "kernelspec": {
   "display_name": "Julia 1.10.1",
   "language": "julia",
   "name": "julia-1.10"
  },
  "language_info": {
   "file_extension": ".jl",
   "mimetype": "application/julia",
   "name": "julia",
   "version": "1.10.1"
  }
 },
 "nbformat": 4,
 "nbformat_minor": 2
}
