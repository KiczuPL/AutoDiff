{
 "cells": [
  {
   "cell_type": "code",
   "execution_count": 1,
   "metadata": {},
   "outputs": [
    {
     "data": {
      "text/plain": [
       "backward (generic function with 8 methods)"
      ]
     },
     "metadata": {},
     "output_type": "display_data"
    }
   ],
   "source": [
    "include(\"graph_ops.jl\")"
   ]
  },
  {
   "cell_type": "code",
   "execution_count": 2,
   "metadata": {},
   "outputs": [],
   "source": [
    "\n",
    "\n",
    "\n",
    "using LinearAlgebra\n",
    "Wh  = VariableNode(randn(10,2))\n",
    "Wo  = VariableNode(randn(1,10))\n",
    "x = InputNode([1.98, 4.434])\n",
    "y = InputNode([0.064])\n",
    "losses = Float64[]\n",
    "\n",
    "function dense(w, b, x, activation) return activation(w * x .+ b) end\n",
    "function dense(w, x, activation) return activation(w * x) end\n",
    "function dense(w, x) return w * x end\n",
    "\n",
    "function mean_squared_loss(y, ŷ)\n",
    "    return ConstantNode(0.5) .* ((y .- ŷ) .^ ConstantNode(2))\n",
    "end\n",
    "\n",
    "function net(x, wh, wo, y)\n",
    "    x̂ = dense(wh, x, sigmoid)\n",
    "    ŷ = dense(wo, x̂)\n",
    "    E = mean_squared_loss(y, ŷ)\n",
    "\n",
    "    return topological_sort(E)\n",
    "end\n",
    "\n",
    "graph = net(x, Wh, Wo, y)\n",
    "init_nodes!(graph)\n",
    "\n"
   ]
  },
  {
   "cell_type": "code",
   "execution_count": 41,
   "metadata": {},
   "outputs": [
    {
     "data": {
      "text/plain": [
       "10-element Vector{Float64}:\n",
       " -1.5425701362874972e-5\n",
       " -0.33222724474201654\n",
       "  0.0731613129949363\n",
       "  0.11518556661838346\n",
       "  0.21317997782855283\n",
       "  0.12429631746811912\n",
       "  1.9399158064514838e-5\n",
       "  0.38981968988615256\n",
       " -0.014479478204768841\n",
       "  0.02724275850855868"
      ]
     },
     "metadata": {},
     "output_type": "display_data"
    }
   ],
   "source": [
    "graph[6].gradient"
   ]
  },
  {
   "cell_type": "code",
   "execution_count": 37,
   "metadata": {},
   "outputs": [
    {
     "name": "stdout",
     "output_type": "stream",
     "text": [
      "Current loss: [5.207341070683012]\n"
     ]
    },
    {
     "data": {
      "text/plain": [
       "35-element Vector{Float64}:\n",
       " 5.207341070683012\n",
       " 5.207341070683012\n",
       " 5.207341070683012\n",
       " 5.207341070683012\n",
       " 5.207341070683012\n",
       " 5.207341070683012\n",
       " 5.207341070683012\n",
       " 5.207341070683012\n",
       " 5.207341070683012\n",
       " 5.207341070683012\n",
       " ⋮\n",
       " 5.207341070683012\n",
       " 5.207341070683012\n",
       " 5.207341070683012\n",
       " 5.207341070683012\n",
       " 5.207341070683012\n",
       " 5.207341070683012\n",
       " 5.207341070683012\n",
       " 5.207341070683012\n",
       " 5.207341070683012"
      ]
     },
     "metadata": {},
     "output_type": "display_data"
    }
   ],
   "source": [
    "currentloss = forward!(graph)\n",
    "backward!(graph)\n",
    "Wh.output -= 0.01Wh.gradient\n",
    "Wo.output -= 0.01Wo.gradient\n",
    "println(\"Current loss: \", currentloss)\n",
    "push!(losses, first(currentloss))"
   ]
  }
 ],
 "metadata": {
  "kernelspec": {
   "display_name": "Julia 1.10.1",
   "language": "julia",
   "name": "julia-1.10"
  },
  "language_info": {
   "file_extension": ".jl",
   "mimetype": "application/julia",
   "name": "julia",
   "version": "1.10.1"
  }
 },
 "nbformat": 4,
 "nbformat_minor": 2
}
