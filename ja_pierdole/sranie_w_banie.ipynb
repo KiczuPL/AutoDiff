{
 "cells": [
  {
   "cell_type": "code",
   "execution_count": 1,
   "metadata": {},
   "outputs": [
    {
     "ename": "LoadError",
     "evalue": "LoadError: syntax: too few type parameters specified in \"new{...}\" around c:\\Users\\Kiczu\\Desktop\\AutoDiff\\ja_pierdole\\nody.jl:21\nin expression starting at c:\\Users\\Kiczu\\Desktop\\AutoDiff\\ja_pierdole\\nody.jl:21\nin expression starting at c:\\Users\\Kiczu\\Desktop\\AutoDiff\\ja_pierdole\\graph_ops.jl:1",
     "output_type": "error",
     "traceback": [
      "LoadError: syntax: too few type parameters specified in \"new{...}\" around c:\\Users\\Kiczu\\Desktop\\AutoDiff\\ja_pierdole\\nody.jl:21\n",
      "in expression starting at c:\\Users\\Kiczu\\Desktop\\AutoDiff\\ja_pierdole\\nody.jl:21\n",
      "in expression starting at c:\\Users\\Kiczu\\Desktop\\AutoDiff\\ja_pierdole\\graph_ops.jl:1\n",
      "\n",
      "Stacktrace:\n",
      " [1] top-level scope\n",
      "   @ c:\\Users\\Kiczu\\Desktop\\AutoDiff\\ja_pierdole\\nody.jl:21"
     ]
    }
   ],
   "source": [
    "include(\"graph_ops.jl\")"
   ]
  },
  {
   "cell_type": "code",
   "execution_count": 1,
   "metadata": {},
   "outputs": [
    {
     "name": "stdout",
     "output_type": "stream",
     "text": [
      "[1.3480914948202563, 1.7031196022825426, 0.8940287876858171]\n",
      "[1.3480914948202563, 1.7031196022825426, 0.8940287876858171]\n"
     ]
    }
   ],
   "source": [
    "include(\"graph_ops.jl\")\n",
    "\n",
    "using BenchmarkTools\n",
    "import Pkg; \n",
    "# Wx = [1.0 2 3; 4 5 6; 7 8 9]\n",
    "# x = [1.0; 2; 3]\n",
    "N = 3\n",
    "Wx = rand(N,N)\n",
    "x = rand(N)\n",
    "bias = rand(N)\n",
    "y = rand(N)\n",
    "\n",
    "xNode = InputNode(copy(x))\n",
    "WNode = VariableNode(copy(Wx),\"Wx\")\n",
    "biasNode = VariableNode(copy(bias),\"bias\")\n",
    "\n",
    "wx =  (WNode * xNode) + biasNode\n",
    "\n",
    "\n",
    "\n",
    "graph = topological_sort(wx)\n",
    "\n",
    "result = forward!(graph)\n",
    "# second = @btime  forward!(graph)\n",
    "println(result)\n",
    "\n",
    "\n",
    "println( Wx * x + bias)\n",
    "\n",
    "# println(@btime Wx * (Wx * (Wx * (Wx * (Wx * x)))) )\n"
   ]
  },
  {
   "cell_type": "code",
   "execution_count": 1,
   "metadata": {},
   "outputs": [],
   "source": [
    "using BenchmarkTools, LinearAlgebra\n",
    "N = 10\n",
    "sraken = rand(N,N)\n",
    "srakenX = rand(N)\n",
    "wynik_pre = zeros(N)\n",
    "wynik_tmp = zeros(N)\n",
    "\n",
    "N_rounds = 1024 * 1024 * 128\n",
    "\n",
    "@time begin\n",
    "wynik = sraken * srakenX\n",
    "    for i in 1:N_rounds\n",
    "        wynik =  sraken * wynik\n",
    "    end\n",
    "end\n",
    "\n",
    "@time begin\n",
    "mul!(wynik_pre, sraken, srakenX)\n",
    "    for i in 1:(N_rounds/2)\n",
    "        mul!(wynik_tmp, sraken, wynik_pre)\n",
    "        mul!(wynik_pre, sraken, wynik_tmp)\n",
    "    end\n",
    "end\n",
    "\n",
    "\n",
    "# println(wynik)\n",
    "# println(wynik_pre)\n"
   ]
  },
  {
   "cell_type": "code",
   "execution_count": 4,
   "metadata": {},
   "outputs": [
    {
     "data": {
      "text/plain": [
       "1×3 Matrix{Int64}:\n",
       " 1  2  3"
      ]
     },
     "metadata": {},
     "output_type": "display_data"
    }
   ],
   "source": [
    "[1 2 3]"
   ]
  }
 ],
 "metadata": {
  "kernelspec": {
   "display_name": "Julia 1.10.1",
   "language": "julia",
   "name": "julia-1.10"
  },
  "language_info": {
   "file_extension": ".jl",
   "mimetype": "application/julia",
   "name": "julia",
   "version": "1.10.1"
  }
 },
 "nbformat": 4,
 "nbformat_minor": 2
}
