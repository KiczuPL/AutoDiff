{
 "cells": [
  {
   "cell_type": "code",
   "execution_count": 1,
   "metadata": {},
   "outputs": [
    {
     "name": "stdout",
     "output_type": "stream",
     "text": [
      "[2.1024984521655226, 6.429762045007024, 6.834115408765226, 7.770131015403509, 7.902291724597995, 7.777612202719964, 3.461328333808612, 3.219508228983099]\n",
      "45.49724741145095\n"
     ]
    }
   ],
   "source": [
    "include(\"graph_ops.jl\")\n",
    "\n",
    "using BenchmarkTools\n",
    "import Pkg; \n",
    "# Wx = [1.0 2 3; 4 5 6; 7 8 9]\n",
    "# x = [1.0; 2; 3]\n",
    "N = 8\n",
    "Wx = rand(N,N)\n",
    "x = rand(N)\n",
    "bias = rand(N)\n",
    "y = rand(N)\n",
    "\n",
    "xNode = InputNode(copy(x))\n",
    "WNode = VariableNode(copy(Wx),\"Wx\")\n",
    "biasNode = VariableNode(copy(bias),\"bias\")\n",
    "yNode = InputNode(copy(y))\n",
    "twoNode = ConstantNode(2.0)\n",
    "\n",
    "wx =  sum((((WNode * xNode) + biasNode).^twoNode) - yNode)\n",
    "# wx =  (((WNode * xNode) + biasNode).^twoNode) - yNode\n",
    "\n",
    "\n",
    "\n",
    "graph = topological_sort(wx)\n",
    "\n",
    "result = forward!(graph)\n",
    "# second = @btime  forward!(graph)\n",
    "println(result)\n",
    "\n",
    "\n",
    "println( sum(((Wx * x + bias).^2) - y))\n",
    "\n",
    "# println(@btime Wx * (Wx * (Wx * (Wx * (Wx * x)))) )\n"
   ]
  },
  {
   "cell_type": "code",
   "execution_count": 1,
   "metadata": {},
   "outputs": [],
   "source": [
    "using BenchmarkTools, LinearAlgebra\n",
    "N = 10\n",
    "sraken = rand(N,N)\n",
    "srakenX = rand(N)\n",
    "wynik_pre = zeros(N)\n",
    "wynik_tmp = zeros(N)\n",
    "\n",
    "N_rounds = 1024 * 1024 * 128\n",
    "\n",
    "@time begin\n",
    "wynik = sraken * srakenX\n",
    "    for i in 1:N_rounds\n",
    "        wynik =  sraken * wynik\n",
    "    end\n",
    "end\n",
    "\n",
    "@time begin\n",
    "mul!(wynik_pre, sraken, srakenX)\n",
    "    for i in 1:(N_rounds/2)\n",
    "        mul!(wynik_tmp, sraken, wynik_pre)\n",
    "        mul!(wynik_pre, sraken, wynik_tmp)\n",
    "    end\n",
    "end\n",
    "\n",
    "\n",
    "# println(wynik)\n",
    "# println(wynik_pre)\n"
   ]
  },
  {
   "cell_type": "code",
   "execution_count": 4,
   "metadata": {},
   "outputs": [
    {
     "data": {
      "text/plain": [
       "1×3 Matrix{Int64}:\n",
       " 1  2  3"
      ]
     },
     "metadata": {},
     "output_type": "display_data"
    }
   ],
   "source": [
    "[1 2 3]"
   ]
  }
 ],
 "metadata": {
  "kernelspec": {
   "display_name": "Julia 1.10.1",
   "language": "julia",
   "name": "julia-1.10"
  },
  "language_info": {
   "file_extension": ".jl",
   "mimetype": "application/julia",
   "name": "julia",
   "version": "1.10.1"
  }
 },
 "nbformat": 4,
 "nbformat_minor": 2
}
