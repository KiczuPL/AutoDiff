{
 "cells": [
  {
   "cell_type": "code",
   "execution_count": 12,
   "metadata": {},
   "outputs": [
    {
     "ename": "LoadError",
     "evalue": "LoadError: UndefVarError: `T` not defined\nin expression starting at c:\\Users\\Kiczu\\Desktop\\AutoDiff\\new\\nody.jl:17\nin expression starting at c:\\Users\\Kiczu\\Desktop\\AutoDiff\\new\\graph_ops.jl:1",
     "output_type": "error",
     "traceback": [
      "LoadError: UndefVarError: `T` not defined\n",
      "in expression starting at c:\\Users\\Kiczu\\Desktop\\AutoDiff\\new\\nody.jl:17\n",
      "in expression starting at c:\\Users\\Kiczu\\Desktop\\AutoDiff\\new\\graph_ops.jl:1\n",
      "\n",
      "Stacktrace:\n",
      " [1] top-level scope\n",
      "   @ c:\\Users\\Kiczu\\Desktop\\AutoDiff\\new\\nody.jl:17"
     ]
    }
   ],
   "source": [
    "include(\"graph_ops.jl\")"
   ]
  },
  {
   "cell_type": "code",
   "execution_count": 4,
   "metadata": {},
   "outputs": [
    {
     "ename": "LoadError",
     "evalue": "LoadError: UndefVarError: `T` not defined\nin expression starting at c:\\Users\\Kiczu\\Desktop\\AutoDiff\\new\\nody.jl:17",
     "output_type": "error",
     "traceback": [
      "LoadError: UndefVarError: `T` not defined\n",
      "in expression starting at c:\\Users\\Kiczu\\Desktop\\AutoDiff\\new\\nody.jl:17\n",
      "\n",
      "Stacktrace:\n",
      " [1] top-level scope\n",
      "   @ c:\\Users\\Kiczu\\Desktop\\AutoDiff\\new\\nody.jl:17"
     ]
    }
   ],
   "source": [
    "include(\"nody.jl\")"
   ]
  }
 ],
 "metadata": {
  "kernelspec": {
   "display_name": "Julia 1.10.1",
   "language": "julia",
   "name": "julia-1.10"
  },
  "language_info": {
   "file_extension": ".jl",
   "mimetype": "application/julia",
   "name": "julia",
   "version": "1.10.1"
  }
 },
 "nbformat": 4,
 "nbformat_minor": 2
}
