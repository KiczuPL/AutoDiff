{
 "cells": [
  {
   "cell_type": "code",
   "execution_count": 1,
   "metadata": {},
   "outputs": [
    {
     "data": {
      "text/plain": [
       "backward (generic function with 10 methods)"
      ]
     },
     "metadata": {},
     "output_type": "display_data"
    }
   ],
   "source": [
    "include(\"graph.jl\")"
   ]
  },
  {
   "cell_type": "code",
   "execution_count": 5,
   "metadata": {},
   "outputs": [
    {
     "ename": "MethodError",
     "evalue": "MethodError: no method matching ^(::Vector{Float64}, ::Float64)\n\nClosest candidates are:\n  ^(!Matched::Missing, ::Number)\n   @ Base missing.jl:123\n  ^(!Matched::Irrational{:ℯ}, ::Number)\n   @ Base mathconstants.jl:119\n  ^(!Matched::Complex{T}, ::S) where {T<:Real, S<:Real}\n   @ Base complex.jl:876\n  ...\n",
     "output_type": "error",
     "traceback": [
      "MethodError: no method matching ^(::Vector{Float64}, ::Float64)\n",
      "\n",
      "Closest candidates are:\n",
      "  ^(!Matched::Missing, ::Number)\n",
      "   @ Base missing.jl:123\n",
      "  ^(!Matched::Irrational{:ℯ}, ::Number)\n",
      "   @ Base mathconstants.jl:119\n",
      "  ^(!Matched::Complex{T}, ::S) where {T<:Real, S<:Real}\n",
      "   @ Base complex.jl:876\n",
      "  ...\n",
      "\n",
      "\n",
      "Stacktrace:\n",
      " [1] forward(::ScalarOperator{typeof(^)}, x::Vector{Float64}, n::Float64)\n",
      "   @ Main c:\\Users\\Kiczu\\Desktop\\AutoDiff\\nosz_kurwa\\graph.jl:79\n",
      " [2] compute!(node::ScalarOperator{typeof(^)})\n",
      "   @ Main c:\\Users\\Kiczu\\Desktop\\AutoDiff\\nosz_kurwa\\graph.jl:39\n",
      " [3] forward!(order::Vector{Any})\n",
      "   @ Main c:\\Users\\Kiczu\\Desktop\\AutoDiff\\nosz_kurwa\\graph.jl:44\n",
      " [4] top-level scope\n",
      "   @ c:\\Users\\Kiczu\\Desktop\\AutoDiff\\nosz_kurwa\\powinno_wyjsc_inaczej.ipynb:16"
     ]
    }
   ],
   "source": [
    "N = 3\n",
    "Wx = rand(N,N)\n",
    "x = rand(N)\n",
    "bias = rand(1,N)\n",
    "y = rand(N)\n",
    "\n",
    "\n",
    "xNode = Variable(x, name=\"x\")\n",
    "WxNode = Variable(Wx, name=\"Wx\")\n",
    "squared = xNode^two\n",
    "\n",
    "sine = sin(squared)\n",
    "\n",
    "order = topological_sort(sine)\n",
    "\n",
    "y = forward!(order)\n",
    "println(y)\n",
    "backward!(order)\n",
    "println(xNode.gradient)"
   ]
  },
  {
   "cell_type": "code",
   "execution_count": null,
   "metadata": {},
   "outputs": [],
   "source": []
  }
 ],
 "metadata": {
  "kernelspec": {
   "display_name": "Julia 1.10.1",
   "language": "julia",
   "name": "julia-1.10"
  },
  "language_info": {
   "file_extension": ".jl",
   "mimetype": "application/julia",
   "name": "julia",
   "version": "1.10.1"
  }
 },
 "nbformat": 4,
 "nbformat_minor": 2
}
