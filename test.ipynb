{
 "cells": [
  {
   "cell_type": "code",
   "execution_count": 1,
   "metadata": {},
   "outputs": [
    {
     "data": {
      "text/plain": [
       "backward (generic function with 10 methods)"
      ]
     },
     "metadata": {},
     "output_type": "display_data"
    }
   ],
   "source": [
    "include(\"graph.jl\")"
   ]
  },
  {
   "cell_type": "code",
   "execution_count": 10,
   "metadata": {},
   "outputs": [
    {
     "data": {
      "text/plain": [
       "4-element Vector{Any}:\n",
       " Variable(5.0, nothing, \"x\")\n",
       " Constant{Float64}(2.0)\n",
       " ScalarOperator{typeof(^)}((Variable(5.0, nothing, \"x\"), Constant{Float64}(2.0)), nothing, nothing, \"?\")\n",
       " ScalarOperator{typeof(sin)}((ScalarOperator{typeof(^)}((Variable(5.0, nothing, \"x\"), Constant{Float64}(2.0)), nothing, nothing, \"?\"),), nothing, nothing, \"?\")"
      ]
     },
     "metadata": {},
     "output_type": "display_data"
    }
   ],
   "source": [
    "x = Variable(5.0, name=\"x\")\n",
    "two = Constant(2.0)\n",
    "squared = x^two\n",
    "sine = sin(squared)\n",
    "\n",
    "order = topological_sort(sine)"
   ]
  },
  {
   "cell_type": "code",
   "execution_count": 11,
   "metadata": {},
   "outputs": [
    {
     "name": "stdout",
     "output_type": "stream",
     "text": [
      "-0.13235175009777303\n",
      "9.912028118634735\n"
     ]
    }
   ],
   "source": [
    "y = forward!(order)\n",
    "println(y)\n",
    "backward!(order)\n",
    "println(x.gradient)"
   ]
  },
  {
   "cell_type": "code",
   "execution_count": 26,
   "metadata": {},
   "outputs": [
    {
     "data": {
      "text/plain": [
       "5.0"
      ]
     },
     "metadata": {},
     "output_type": "display_data"
    }
   ],
   "source": [
    "backward!(order)"
   ]
  },
  {
   "cell_type": "code",
   "execution_count": 33,
   "metadata": {},
   "outputs": [
    {
     "name": "stdout",
     "output_type": "stream",
     "text": [
      "9.912028118634735\n"
     ]
    }
   ],
   "source": [
    "println(x.gradient)"
   ]
  }
 ],
 "metadata": {
  "kernelspec": {
   "display_name": "Julia 1.10.1",
   "language": "julia",
   "name": "julia-1.10"
  },
  "language_info": {
   "file_extension": ".jl",
   "mimetype": "application/julia",
   "name": "julia",
   "version": "1.10.1"
  }
 },
 "nbformat": 4,
 "nbformat_minor": 2
}
